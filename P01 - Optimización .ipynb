{
 "cells": [
  {
   "cell_type": "markdown",
   "id": "21478fc2",
   "metadata": {},
   "source": [
    "![](https://international.udemedellin.edu.co/wp-content/uploads/2021/07/iteso.jpg)\n",
    "<center>\n",
    "     \n",
    "<h3>Instituto Tecnológico y de Estudios Superiores de Occidente  (ITESO)</h3>\n",
    "    \n",
    "\n",
    "<h1>Optimización de Costos en la Preparación de Mezclas de Concreto para Diferentes Aplicaciones de Construcción</h1>  \n",
    "    \n",
    "\n",
    "<h3>Integrantes del equipo: \n",
    "    \n",
    "    \n",
    "    Andrea del Pilar Zamora Cortes     745838  \n",
    "\n",
    "    \n",
    "    andrea.zamora@iteso.mx\n",
    "    \n",
    "    \n",
    "    Javier Ochoa Llamas                111111   \n",
    "    \n",
    "    \n",
    "    javier.ochoa@iteso.mx\n",
    "    \n",
    "    \n",
    "    Materia: \n",
    "\n",
    "    \n",
    "    Simulación Matemática (O2023_MAF2869K)\n",
    "    \n",
    "    \n",
    "    Profesor: \n",
    "    \n",
    "\n",
    "    Gabriel Alejandro Morales Ruiz\n",
    "    \n",
    "    \n",
    "    21 de septiembre de 2023\n",
    "</center> \n",
    "\n"
   ]
  },
  {
   "cell_type": "markdown",
   "id": "3074f031",
   "metadata": {},
   "source": [
    "## Objetivos \n",
    "### Objetivo General\n",
    "Desarrollar un modelo de optimización para la preparación de mezclas de concreto que permita minimizar los costos totales de producción, considerando diferentes resistencias de concreto y aplicaciones de construcción.\n",
    "\n",
    "### Objetivos Específicos \n",
    "1. Determinar la combinación más económica de materiales (cemento, arena y grava) para diferentes resistencias de concreto y aplicaciones de construcción.\n",
    "2. Identificar las opciones de compra más rentables para el cemento, arena y grava disponibles en el mercado.\n",
    "3. Minimizar los costos totales de producción de concreto sin comprometer la resistencia y calidad requeridas para cada aplicación.\n",
    "\n",
    "## Modelo que Representa el Problema\n",
    "Utilizaremos un modelo de optimización matemática para determinar la combinación óptima de cemento, arena y grava para cada resistencia de concreto y aplicación específica. También consideraremos las opciones de compra de materiales en base a los precios proporcionados. El modelo buscará minimizar los costos totales de producción de concreto, tomando en cuenta las restricciones de resistencia y volumen requerido para cada aplicación.\n",
    "\n",
    "### Ecuación Objetivo\n",
    "\n",
    "$$C_{total}=PC⋅C+PA⋅A+PG⋅G$$\n",
    "\n",
    "Donde:\n",
    "\n",
    "- $C_{total}$ es el costo total de producción de concreto.\n",
    "- $PC$ es el precio por unidad de peso de cemento.\n",
    "- $PA$ es el precio por unidad de peso de arena.\n",
    "- $PG$ es el precio por unidad de peso de grava.\n",
    "- $C$ es la cantidad de cemento utilizada (en kilogramos).\n",
    "- $A$ es la cantidad de arena utilizada (en kilogramos).\n",
    "- $G$ es la cantidad de grava utilizada (en kilogramos).\n",
    "\n",
    "### Restricciones\n",
    "1. Restricción de Resistencia (R)\n",
    "\n",
    "Garantiza que la resistencia del concreto cumple con los requisitos mínimos para la aplicación específica.\n",
    "\n",
    "$R≥$ Resistencia mínima requerida para la aplicación\n",
    "\n",
    "2. Restricciones de Cantidad de Material (M)\n",
    "\n",
    "Evitan exceder la cantidad máxima disponible de cada material.\n",
    "\n",
    "- $MC≤$ Cantidad máxima de cemento disponible\n",
    "- $MA≤$ Cantidad máxima de arena disponible\n",
    "- $MG≤$ Cantidad máxima de grava disponible\n",
    "\n",
    "3. Restricciones de volumen (V):\n",
    "\n",
    "El volumen total de la mezcla de concreto debe ser igual al volumen de los componentes.\n",
    "\n",
    "$V=VC+VA+VG$\n",
    "\n",
    "Donde:\n",
    "\n",
    "- $V$ es el volumen total de la mezcla de concreto (en kg).\n",
    "- $VC$ es el volumen ocupado por el cemento.\n",
    "- $VA$ es el volumen ocupado por la arena.\n",
    "- $VG$ es el volumen ocupado por la grava.\n",
    "\n"
   ]
  },
  {
   "cell_type": "markdown",
   "id": "06d46d31",
   "metadata": {},
   "source": [
    "## Solución\n",
    "\n",
    "### Información\n",
    "| Resistencia y Tipo de Concreto | Aplicación            | Cantidad de Cemento (bultos de 50 kg) | Cantidad de Arena (bote de 19 L) | Cantidad de Grava (bote de 19 L) | Cantidad de Agua (bote de 19 L) | Volumen Resultante (litros) |\n",
    "|---------------------------------|-----------------------|---------------------------------------|----------------------------------|---------------------------------|--------------------------------|-----------------------------|\n",
    "| IF'c 100 KGS/CM^2               | FIRMES, PLANTILLAS    | 1                                     | 6                                | 8                               | 2                              | 180                         |\n",
    "| IF'c 150 KGS/CM^2               | DALAS Y CATILLOS      | 1                                     | 5 1/4                            | 7 1/2                           | 1 3/4                          | 165                         |\n",
    "| IF'c 200 KGS/CM^2               | LOSAS DE ESPESOR      | 1                                     | 4 1/2                            | 6                               | 1 1/2                          | 145                         |\n",
    "| IF'c 250 KGS/CM^2               | COLUMNAS Y TRABES     | 1                                     | 3 3/4                            | 5 1/2                           | 1 1/4                          | 130                         |\n",
    "| IF'c 300 KGS/CM^2               | PREESFORZADO          | 1                                     | 3                                | 4 3/4                           | 1                               | 112                         |\n",
    "\n",
    "\n",
    "Sin embargo, para simplificar los procedimientos cambiaremos la unidades de 19 litros, por kilogramos, para esto ponemos como solución que el bote tenga con un diámetro superior de 29.5 cm y una altura de 36.0 cm, de tal manera que si toda la arena tiene una densidad de 1.6 kg por litro y la toda la grava una densidad de 2.5 kg por litro.\n",
    "\n",
    "\n",
    "| Resistencia y Tipo de Concreto | Aplicación            | Cantidad de Cemento (bultos de 50 kg) | Cantidad de Arena (0.488 kg) | Cantidad de Grava (0.7625 kg) | Cantidad de Agua (bote de 19 L) | Volumen Resultante (litros) |\n",
    "|---------------------------------|-----------------------|---------------------------------------|----------------------------------|---------------------------------|--------------------------------|-----------------------------|\n",
    "| IF'c 100 KGS/CM^2               | FIRMES, PLANTILLAS    | 1                                     | 6                                | 8                               | 2                              | 180                         |\n",
    "| IF'c 150 KGS/CM^2               | DALAS Y CATILLOS      | 1                                     | 5 1/4                            | 7 1/2                           | 1 3/4                          | 165                         |\n",
    "| IF'c 200 KGS/CM^2               | LOSAS DE ESPESOR      | 1                                     | 4 1/2                            | 6                               | 1 1/2                          | 145                         |\n",
    "| IF'c 250 KGS/CM^2               | COLUMNAS Y TRABES     | 1                                     | 3 3/4                            | 5 1/2                           | 1 1/4                          | 130                         |\n",
    "| IF'c 300 KGS/CM^2               | PREESFORZADO          | 1                                     | 3                                | 4 3/4                           | 1                               | 112                         |\n",
    "\n",
    "\n",
    "De igual manera para simplificar la optimización, solo nos vamos a enfocar en los precios y restricciones del cemento, la arena y la grava.\n",
    "\n",
    "\n",
    "| Resistencia y Tipo de Concreto | Aplicación            | Cantidad de Cemento (bultos de 50 kg) | Cantidad de Arena (0.488 kg) | Cantidad de Grava (0.7625 kg) | Peso Total de la Mezcla (kg) |\n",
    "|---------------------------------|-----------------------|---------------------------------------|----------------------------------|---------------------------------|-----------------------------|\n",
    "| IF'c 100 KGS/CM^2               | FIRMES, PLANTILLAS    | 1                                     | 6                                | 8                               | 59.028                      |\n",
    "| IF'c 150 KGS/CM^2               | DALAS Y CATILLOS      | 1                                     | 5 1/4                            | 7 1/2                           | 58.28075                    |\n",
    "| IF'c 200 KGS/CM^2               | LOSAS DE ESPESOR      | 1                                     | 4 1/2                            | 6                               | 56.771                      |\n",
    "| IF'c 250 KGS/CM^2               | COLUMNAS Y TRABES     | 1                                     | 3 3/4                            | 5 1/2                           | 56.02375                    |\n",
    "| IF'c 300 KGS/CM^2               | PREESFORZADO          | 1                                     | 3                                | 4 3/4                           | 55.085875                   |\n",
    "\n",
    "### Costos\n",
    "\n",
    "| Material    | Opción 1                 | Opción 2                   |\n",
    "|-------------|--------------------------|----------------------------|\n",
    "| Cemento     | 50kg por 185 pesos       | 1000kg por 3,650 pesos      |\n",
    "| Grava       | 40kg por 82 pesos        | 2500kg por 820 pesos        |\n",
    "| Arena       | 50kg por 269 pesos       | 1600kg por 350 pesos        |\n"
   ]
  },
  {
   "cell_type": "markdown",
   "id": "917d3c39",
   "metadata": {},
   "source": [
    "1. Criterio de Optimización:\n",
    "\n",
    "Minimizar los costos totales de producción de concreto\n",
    "\n",
    "2. Variables de Control:\n",
    "\n",
    "Cantidades de material\n",
    "- $C_1$: cantidad de cemento de la opcion 1\n",
    "- $C_2$: cantidad de cemento de la opcion 2\n",
    "- $G_1$: cantidad de grava de la opcion 1\n",
    "- $G_2$: cantidad de grava de la opcion 2\n",
    "- $A_1$: cantidad de arena de la opcion 1\n",
    "- $A_2$: cantidad de arena de la opcion 2\n",
    "\n",
    "\n",
    "3. Función de Costo:\n",
    "\n",
    "Suma de los costos de los materiales\n",
    "\n",
    "$$ 3.7 C_1 + 3.65 C_2 + 2.05 G_1 + 0.328 G_2 + 5.38 A_1 + 0.21875 A_2$$\n",
    "\n"
   ]
  },
  {
   "cell_type": "markdown",
   "id": "26880e37",
   "metadata": {},
   "source": [
    "### Solución para\n",
    "| Resistencia y Tipo de Concreto | Aplicación            | Cantidad de Cemento (bultos de 50 kg) | Cantidad de Arena (0.488 kg) | Cantidad de Grava (0.7625 kg) | Peso Total de la Mezcla (kg) |\n",
    "|---------------------------------|-----------------------|---------------------------------------|----------------------------------|---------------------------------|-----------------------------|\n",
    "| IF'c 100 KGS/CM^2               | FIRMES, PLANTILLAS    | 1                                     | 6                                | 8                               | 59.028                      |"
   ]
  },
  {
   "cell_type": "markdown",
   "id": "ca7e0b14",
   "metadata": {},
   "source": [
    "4. Restricciones:\n",
    "\n",
    "$C_1+C_2=50$\n",
    "\n",
    "$G_1+G_2=6.1$\n",
    "\n",
    "$A_1+A_2=2.928$\n",
    "\n",
    "$C_1+C_2+G_1+G_2+A_1+A_2 \\ge 59.028$\n"
   ]
  },
  {
   "cell_type": "code",
   "execution_count": 2,
   "id": "41330c52",
   "metadata": {},
   "outputs": [
    {
     "data": {
      "text/plain": [
       "        message: Optimization terminated successfully. (HiGHS Status 7: Optimal)\n",
       "        success: True\n",
       "         status: 0\n",
       "            fun: 185.1413\n",
       "              x: [ 0.000e+00  5.000e+01  0.000e+00  6.100e+00  0.000e+00\n",
       "                   2.928e+00]\n",
       "            nit: 0\n",
       "          lower:  residual: [ 0.000e+00  5.000e+01  0.000e+00  6.100e+00\n",
       "                              0.000e+00  2.928e+00]\n",
       "                 marginals: [ 5.000e-02  0.000e+00  1.722e+00  0.000e+00\n",
       "                              5.161e+00  0.000e+00]\n",
       "          upper:  residual: [       inf        inf        inf        inf\n",
       "                                    inf        inf]\n",
       "                 marginals: [ 0.000e+00  0.000e+00  0.000e+00  0.000e+00\n",
       "                              0.000e+00  0.000e+00]\n",
       "          eqlin:  residual: [ 0.000e+00  0.000e+00  0.000e+00]\n",
       "                 marginals: [ 3.650e+00  3.280e-01  2.188e-01]\n",
       "        ineqlin:  residual: [ 0.000e+00]\n",
       "                 marginals: [-0.000e+00]\n",
       " mip_node_count: 0\n",
       " mip_dual_bound: 0.0\n",
       "        mip_gap: 0.0"
      ]
     },
     "execution_count": 2,
     "metadata": {},
     "output_type": "execute_result"
    }
   ],
   "source": [
    "import numpy as np\n",
    "import scipy.optimize as opt\n",
    "c = np.array([3.7,\n",
    "              3.65,\n",
    "              2.05,\n",
    "              0.328,\n",
    "              5.38,\n",
    "              0.21875])\n",
    "\n",
    "Aub = np.array([\n",
    "    [1, 1, 1, 1, 1, 1]\n",
    "])\n",
    "\n",
    "bub = np.array([59.028])\n",
    "\n",
    "\n",
    "Aeq = np.array([\n",
    "    [1, 1, 0, 0, 0, 0],\n",
    "    [0, 0, 1, 1, 0, 0],\n",
    "    [0, 0, 0, 0, 1, 1]\n",
    "])\n",
    "beq = np.array([50, 6.1, 2.928])\n",
    "\n",
    "solf=opt.linprog(c, Aub,bub, Aeq, beq)\n",
    "solf"
   ]
  },
  {
   "cell_type": "code",
   "execution_count": 3,
   "id": "ae9ee6ff",
   "metadata": {
    "scrolled": true
   },
   "outputs": [
    {
     "data": {
      "text/plain": [
       "array([ 0.   , 50.   ,  0.   ,  6.1  ,  0.   ,  2.928])"
      ]
     },
     "execution_count": 3,
     "metadata": {},
     "output_type": "execute_result"
    }
   ],
   "source": [
    "solf.x"
   ]
  },
  {
   "cell_type": "code",
   "execution_count": 4,
   "id": "eb5a76bc",
   "metadata": {},
   "outputs": [
    {
     "data": {
      "text/plain": [
       "185.1413"
      ]
     },
     "execution_count": 4,
     "metadata": {},
     "output_type": "execute_result"
    }
   ],
   "source": [
    "solf.fun"
   ]
  },
  {
   "cell_type": "markdown",
   "id": "3e98825e",
   "metadata": {},
   "source": [
    "### Solución para\n",
    "| Resistencia y Tipo de Concreto | Aplicación            | Cantidad de Cemento (bultos de 50 kg) | Cantidad de Arena (0.488 kg) | Cantidad de Grava (0.7625 kg) | Peso Total de la Mezcla (kg) |\n",
    "|---------------------------------|-----------------------|---------------------------------------|----------------------------------|---------------------------------|-----------------------------|\n",
    "| IF'c 150 KGS/CM^2               | DALAS Y CATILLOS      | 1                                     | 5 1/4                            | 7 1/2                           | 58.28075                    |"
   ]
  },
  {
   "cell_type": "markdown",
   "id": "9ac59b38",
   "metadata": {},
   "source": [
    "4. Restricciones:\n",
    "\n",
    "$C_1+C_2=50$\n",
    "\n",
    "$G_1+G_2=5.71875$\n",
    "\n",
    "$A_1+A_2=2.562$\n",
    "\n",
    "$C_1+C_2+G_1+G_2+A_1+A_2 \\ge 58.28075$\n"
   ]
  },
  {
   "cell_type": "code",
   "execution_count": 5,
   "id": "25f7687a",
   "metadata": {},
   "outputs": [
    {
     "data": {
      "text/plain": [
       "        message: Optimization terminated successfully. (HiGHS Status 7: Optimal)\n",
       "        success: True\n",
       "         status: 0\n",
       "            fun: 184.93618750000002\n",
       "              x: [ 0.000e+00  5.000e+01  0.000e+00  5.719e+00  0.000e+00\n",
       "                   2.562e+00]\n",
       "            nit: 0\n",
       "          lower:  residual: [ 0.000e+00  5.000e+01  0.000e+00  5.719e+00\n",
       "                              0.000e+00  2.562e+00]\n",
       "                 marginals: [ 5.000e-02  0.000e+00  1.722e+00  0.000e+00\n",
       "                              5.161e+00  0.000e+00]\n",
       "          upper:  residual: [       inf        inf        inf        inf\n",
       "                                    inf        inf]\n",
       "                 marginals: [ 0.000e+00  0.000e+00  0.000e+00  0.000e+00\n",
       "                              0.000e+00  0.000e+00]\n",
       "          eqlin:  residual: [ 0.000e+00  0.000e+00  0.000e+00]\n",
       "                 marginals: [ 3.650e+00  3.280e-01  2.188e-01]\n",
       "        ineqlin:  residual: [ 0.000e+00]\n",
       "                 marginals: [-0.000e+00]\n",
       " mip_node_count: 0\n",
       " mip_dual_bound: 0.0\n",
       "        mip_gap: 0.0"
      ]
     },
     "execution_count": 5,
     "metadata": {},
     "output_type": "execute_result"
    }
   ],
   "source": [
    "c = np.array([3.7,\n",
    "              3.65,\n",
    "              2.05,\n",
    "              0.328,\n",
    "              5.38,\n",
    "              0.21875])\n",
    "\n",
    "Aub = np.array([\n",
    "    [1, 1, 1, 1, 1, 1]\n",
    "])\n",
    "\n",
    "bub = np.array([58.28075])\n",
    "\n",
    "\n",
    "Aeq = np.array([\n",
    "    [1, 1, 0, 0, 0, 0],\n",
    "    [0, 0, 1, 1, 0, 0],\n",
    "    [0, 0, 0, 0, 1, 1]\n",
    "])\n",
    "beq = np.array([50, 5.71875, 2.562])\n",
    "\n",
    "sold=opt.linprog(c, Aub,bub, Aeq, beq)\n",
    "sold"
   ]
  },
  {
   "cell_type": "code",
   "execution_count": 6,
   "id": "35e5bac7",
   "metadata": {},
   "outputs": [
    {
     "data": {
      "text/plain": [
       "array([ 0.     , 50.     ,  0.     ,  5.71875,  0.     ,  2.562  ])"
      ]
     },
     "execution_count": 6,
     "metadata": {},
     "output_type": "execute_result"
    }
   ],
   "source": [
    "sold.x"
   ]
  },
  {
   "cell_type": "code",
   "execution_count": 7,
   "id": "cd8500a4",
   "metadata": {},
   "outputs": [
    {
     "data": {
      "text/plain": [
       "184.93618750000002"
      ]
     },
     "execution_count": 7,
     "metadata": {},
     "output_type": "execute_result"
    }
   ],
   "source": [
    "sold.fun"
   ]
  },
  {
   "cell_type": "markdown",
   "id": "b4bc554e",
   "metadata": {},
   "source": [
    "### Solución para\n",
    "| Resistencia y Tipo de Concreto | Aplicación            | Cantidad de Cemento (bultos de 50 kg) | Cantidad de Arena (0.488 kg) | Cantidad de Grava (0.7625 kg) | Peso Total de la Mezcla (kg) |\n",
    "|---------------------------------|-----------------------|---------------------------------------|----------------------------------|---------------------------------|-----------------------------|\n",
    "| IF'c 200 KGS/CM^2               | LOSAS DE ESPESOR      | 1                                     | 4 1/2                            | 6                               | 56.771                      |"
   ]
  },
  {
   "cell_type": "markdown",
   "id": "905098e8",
   "metadata": {},
   "source": [
    "4. Restricciones:\n",
    "\n",
    "$C_1+C_2=50$\n",
    "\n",
    "$G_1+G_2=4.575$\n",
    "\n",
    "$A_1+A_2=2.196$\n",
    "\n",
    "$C_1+C_2+G_1+G_2+A_1+A_2 \\ge 56.771$"
   ]
  },
  {
   "cell_type": "code",
   "execution_count": 8,
   "id": "0498a8f7",
   "metadata": {},
   "outputs": [
    {
     "data": {
      "text/plain": [
       "        message: Optimization terminated successfully. (HiGHS Status 7: Optimal)\n",
       "        success: True\n",
       "         status: 0\n",
       "            fun: 184.480975\n",
       "              x: [ 0.000e+00  5.000e+01  0.000e+00  4.575e+00  0.000e+00\n",
       "                   2.196e+00]\n",
       "            nit: 0\n",
       "          lower:  residual: [ 0.000e+00  5.000e+01  0.000e+00  4.575e+00\n",
       "                              0.000e+00  2.196e+00]\n",
       "                 marginals: [ 5.000e-02  0.000e+00  1.722e+00  0.000e+00\n",
       "                              5.161e+00  0.000e+00]\n",
       "          upper:  residual: [       inf        inf        inf        inf\n",
       "                                    inf        inf]\n",
       "                 marginals: [ 0.000e+00  0.000e+00  0.000e+00  0.000e+00\n",
       "                              0.000e+00  0.000e+00]\n",
       "          eqlin:  residual: [ 0.000e+00  0.000e+00  0.000e+00]\n",
       "                 marginals: [ 3.650e+00  3.280e-01  2.188e-01]\n",
       "        ineqlin:  residual: [ 0.000e+00]\n",
       "                 marginals: [-0.000e+00]\n",
       " mip_node_count: 0\n",
       " mip_dual_bound: 0.0\n",
       "        mip_gap: 0.0"
      ]
     },
     "execution_count": 8,
     "metadata": {},
     "output_type": "execute_result"
    }
   ],
   "source": [
    "c = np.array([3.7,\n",
    "              3.65,\n",
    "              2.05,\n",
    "              0.328,\n",
    "              5.38,\n",
    "              0.21875])\n",
    "\n",
    "Aub = np.array([\n",
    "    [1, 1, 1, 1, 1, 1]\n",
    "])\n",
    "\n",
    "bub = np.array([56.771])\n",
    "\n",
    "\n",
    "Aeq = np.array([\n",
    "    [1, 1, 0, 0, 0, 0],\n",
    "    [0, 0, 1, 1, 0, 0],\n",
    "    [0, 0, 0, 0, 1, 1]\n",
    "])\n",
    "beq = np.array([50, 4.575, 2.196])\n",
    "\n",
    "soll=opt.linprog(c, Aub,bub, Aeq, beq)\n",
    "soll"
   ]
  },
  {
   "cell_type": "code",
   "execution_count": 9,
   "id": "d42851c7",
   "metadata": {},
   "outputs": [
    {
     "data": {
      "text/plain": [
       "array([ 0.   , 50.   ,  0.   ,  4.575,  0.   ,  2.196])"
      ]
     },
     "execution_count": 9,
     "metadata": {},
     "output_type": "execute_result"
    }
   ],
   "source": [
    "soll.x"
   ]
  },
  {
   "cell_type": "code",
   "execution_count": 10,
   "id": "429b3594",
   "metadata": {},
   "outputs": [
    {
     "data": {
      "text/plain": [
       "184.480975"
      ]
     },
     "execution_count": 10,
     "metadata": {},
     "output_type": "execute_result"
    }
   ],
   "source": [
    "soll.fun"
   ]
  },
  {
   "cell_type": "markdown",
   "id": "56535d5f",
   "metadata": {},
   "source": [
    "### Solución para\n",
    "| Resistencia y Tipo de Concreto | Aplicación            | Cantidad de Cemento (bultos de 50 kg) | Cantidad de Arena (0.488 kg) | Cantidad de Grava (0.7625 kg) | Peso Total de la Mezcla (kg) |\n",
    "|---------------------------------|-----------------------|---------------------------------------|----------------------------------|---------------------------------|-----------------------------|\n",
    "| IF'c 250 KGS/CM^2               | COLUMNAS Y TRABES     | 1                                     | 3 3/4                            | 5 1/2                           | 56.02375                    |"
   ]
  },
  {
   "cell_type": "markdown",
   "id": "ae5258c2",
   "metadata": {},
   "source": [
    "4. Restricciones:\n",
    "\n",
    "$C_1+C_2=50$\n",
    "\n",
    "$G_1+G_2=4.19375$\n",
    "\n",
    "$A_1+A_2=1.83$\n",
    "\n",
    "$C_1+C_2+G_1+G_2+A_1+A_2 \\ge 56.02375$"
   ]
  },
  {
   "cell_type": "code",
   "execution_count": 11,
   "id": "a168efe3",
   "metadata": {},
   "outputs": [
    {
     "data": {
      "text/plain": [
       "        message: Optimization terminated successfully. (HiGHS Status 7: Optimal)\n",
       "        success: True\n",
       "         status: 0\n",
       "            fun: 184.27586250000002\n",
       "              x: [ 0.000e+00  5.000e+01  0.000e+00  4.194e+00  0.000e+00\n",
       "                   1.830e+00]\n",
       "            nit: 0\n",
       "          lower:  residual: [ 0.000e+00  5.000e+01  0.000e+00  4.194e+00\n",
       "                              0.000e+00  1.830e+00]\n",
       "                 marginals: [ 5.000e-02  0.000e+00  1.722e+00  0.000e+00\n",
       "                              5.161e+00  0.000e+00]\n",
       "          upper:  residual: [       inf        inf        inf        inf\n",
       "                                    inf        inf]\n",
       "                 marginals: [ 0.000e+00  0.000e+00  0.000e+00  0.000e+00\n",
       "                              0.000e+00  0.000e+00]\n",
       "          eqlin:  residual: [ 0.000e+00  0.000e+00  0.000e+00]\n",
       "                 marginals: [ 3.650e+00  3.280e-01  2.188e-01]\n",
       "        ineqlin:  residual: [ 0.000e+00]\n",
       "                 marginals: [-0.000e+00]\n",
       " mip_node_count: 0\n",
       " mip_dual_bound: 0.0\n",
       "        mip_gap: 0.0"
      ]
     },
     "execution_count": 11,
     "metadata": {},
     "output_type": "execute_result"
    }
   ],
   "source": [
    "c = np.array([3.7,\n",
    "              3.65,\n",
    "              2.05,\n",
    "              0.328,\n",
    "              5.38,\n",
    "              0.21875])\n",
    "\n",
    "Aub = np.array([\n",
    "    [1, 1, 1, 1, 1, 1]\n",
    "])\n",
    "\n",
    "bub = np.array([56.02375])\n",
    "\n",
    "\n",
    "Aeq = np.array([\n",
    "    [1, 1, 0, 0, 0, 0],\n",
    "    [0, 0, 1, 1, 0, 0],\n",
    "    [0, 0, 0, 0, 1, 1]\n",
    "])\n",
    "beq = np.array([50, 4.19375, 1.83])\n",
    "\n",
    "solc=opt.linprog(c, Aub,bub, Aeq, beq)\n",
    "solc"
   ]
  },
  {
   "cell_type": "code",
   "execution_count": 12,
   "id": "d8a27a9c",
   "metadata": {},
   "outputs": [
    {
     "data": {
      "text/plain": [
       "array([ 0.     , 50.     ,  0.     ,  4.19375,  0.     ,  1.83   ])"
      ]
     },
     "execution_count": 12,
     "metadata": {},
     "output_type": "execute_result"
    }
   ],
   "source": [
    "solc.x"
   ]
  },
  {
   "cell_type": "code",
   "execution_count": 13,
   "id": "512d062a",
   "metadata": {},
   "outputs": [
    {
     "data": {
      "text/plain": [
       "184.27586250000002"
      ]
     },
     "execution_count": 13,
     "metadata": {},
     "output_type": "execute_result"
    }
   ],
   "source": [
    "solc.fun"
   ]
  },
  {
   "cell_type": "markdown",
   "id": "04ebec92",
   "metadata": {},
   "source": [
    "### Solución para\n",
    "| Resistencia y Tipo de Concreto | Aplicación            | Cantidad de Cemento (bultos de 50 kg) | Cantidad de Arena (0.488 kg) | Cantidad de Grava (0.7625 kg) | Peso Total de la Mezcla (kg) |\n",
    "|---------------------------------|-----------------------|---------------------------------------|----------------------------------|---------------------------------|-----------------------------|\n",
    "| IF'c 300 KGS/CM^2               | PREESFORZADO          | 1                                     | 3                                | 4 3/4                           | 55.085875                  | "
   ]
  },
  {
   "cell_type": "markdown",
   "id": "560f1753",
   "metadata": {},
   "source": [
    "4. Restricciones:\n",
    "\n",
    "$C_1+C_2=50$\n",
    "\n",
    "$G_1+G_2=3.621875$\n",
    "\n",
    "$A_1+A_2=1.464$\n",
    "\n",
    "$C_1+C_2+G_1+G_2+A_1+A_2 \\ge 55.085875$"
   ]
  },
  {
   "cell_type": "code",
   "execution_count": 14,
   "id": "cae87bbd",
   "metadata": {},
   "outputs": [
    {
     "data": {
      "text/plain": [
       "        message: Optimization terminated successfully. (HiGHS Status 7: Optimal)\n",
       "        success: True\n",
       "         status: 0\n",
       "            fun: 184.00822499999998\n",
       "              x: [ 0.000e+00  5.000e+01  0.000e+00  3.622e+00  0.000e+00\n",
       "                   1.464e+00]\n",
       "            nit: 0\n",
       "          lower:  residual: [ 0.000e+00  5.000e+01  0.000e+00  3.622e+00\n",
       "                              0.000e+00  1.464e+00]\n",
       "                 marginals: [ 5.000e-02  0.000e+00  1.722e+00  0.000e+00\n",
       "                              5.161e+00  0.000e+00]\n",
       "          upper:  residual: [       inf        inf        inf        inf\n",
       "                                    inf        inf]\n",
       "                 marginals: [ 0.000e+00  0.000e+00  0.000e+00  0.000e+00\n",
       "                              0.000e+00  0.000e+00]\n",
       "          eqlin:  residual: [ 0.000e+00  0.000e+00  0.000e+00]\n",
       "                 marginals: [ 3.650e+00  3.280e-01  2.188e-01]\n",
       "        ineqlin:  residual: [ 0.000e+00]\n",
       "                 marginals: [-0.000e+00]\n",
       " mip_node_count: 0\n",
       " mip_dual_bound: 0.0\n",
       "        mip_gap: 0.0"
      ]
     },
     "execution_count": 14,
     "metadata": {},
     "output_type": "execute_result"
    }
   ],
   "source": [
    "c = np.array([3.7,\n",
    "              3.65,\n",
    "              2.05,\n",
    "              0.328,\n",
    "              5.38,\n",
    "              0.21875])\n",
    "\n",
    "Aub = np.array([\n",
    "    [1, 1, 1, 1, 1, 1]\n",
    "])\n",
    "\n",
    "bub = np.array([55.085875])\n",
    "\n",
    "\n",
    "Aeq = np.array([\n",
    "    [1, 1, 0, 0, 0, 0],\n",
    "    [0, 0, 1, 1, 0, 0],\n",
    "    [0, 0, 0, 0, 1, 1]\n",
    "])\n",
    "beq = np.array([50, 3.621875, 1.464])\n",
    "\n",
    "solp=opt.linprog(c, Aub,bub, Aeq, beq)\n",
    "solp"
   ]
  },
  {
   "cell_type": "code",
   "execution_count": 15,
   "id": "f82632f7",
   "metadata": {},
   "outputs": [
    {
     "data": {
      "text/plain": [
       "array([ 0.      , 50.      ,  0.      ,  3.621875,  0.      ,  1.464   ])"
      ]
     },
     "execution_count": 15,
     "metadata": {},
     "output_type": "execute_result"
    }
   ],
   "source": [
    "solp.x"
   ]
  },
  {
   "cell_type": "code",
   "execution_count": 16,
   "id": "8f135421",
   "metadata": {},
   "outputs": [
    {
     "data": {
      "text/plain": [
       "184.00822499999998"
      ]
     },
     "execution_count": 16,
     "metadata": {},
     "output_type": "execute_result"
    }
   ],
   "source": [
    "solp.fun"
   ]
  },
  {
   "cell_type": "markdown",
   "id": "e0aeaeb1",
   "metadata": {},
   "source": [
    "### Visualización de la solución del problema.\n"
   ]
  },
  {
   "cell_type": "code",
   "execution_count": 23,
   "id": "ac751960",
   "metadata": {},
   "outputs": [
    {
     "data": {
      "image/png": "[encoded data removed]",
      "text/plain": [
       "<Figure size 640x480 with 1 Axes>"
      ]
     },
     "metadata": {},
     "output_type": "display_data"
    }
   ],
   "source": [
    "import matplotlib.pyplot as plt\n",
    "\n",
    "# Solución óptima\n",
    "x_opt = solf.x\n",
    "\n",
    "# Gráfica de barras para las variables de decisión\n",
    "plt.bar(range(len(x_opt)), x_opt, tick_label=['x1', 'x2', 'x3', 'x4', 'x5', 'x6'])\n",
    "plt.xlabel('Variables de Decisión')\n",
    "plt.ylabel('Valor Óptimo')\n",
    "plt.title(\"Valores Óptimos de las Variables de Decisión para IF'c 100 KGS/CM^2\")\n",
    "plt.show()\n"
   ]
  },
  {
   "cell_type": "code",
   "execution_count": 24,
   "id": "8f01b27b",
   "metadata": {},
   "outputs": [
    {
     "data": {
      "image/png": "[encoded data removed]",
      "text/plain": [
       "<Figure size 640x480 with 1 Axes>"
      ]
     },
     "metadata": {},
     "output_type": "display_data"
    }
   ],
   "source": [
    "import matplotlib.pyplot as plt\n",
    "\n",
    "# Solución óptima\n",
    "x_opt = sold.x\n",
    "\n",
    "# Gráfica de barras para las variables de decisión\n",
    "plt.bar(range(len(x_opt)), x_opt, tick_label=['x1', 'x2', 'x3', 'x4', 'x5', 'x6'])\n",
    "plt.xlabel('Variables de Decisión')\n",
    "plt.ylabel('Valor Óptimo')\n",
    "plt.title(\"Valores Óptimos de las Variables de Decisión para IF'c 150 KGS/CM^2\")\n",
    "plt.show()"
   ]
  },
  {
   "cell_type": "code",
   "execution_count": 25,
   "id": "e92f0829",
   "metadata": {},
   "outputs": [
    {
     "data": {
      "image/png": "[encoded data removed]",
      "text/plain": [
       "<Figure size 640x480 with 1 Axes>"
      ]
     },
     "metadata": {},
     "output_type": "display_data"
    }
   ],
   "source": [
    "import matplotlib.pyplot as plt\n",
    "\n",
    "# Solución óptima\n",
    "x_opt = soll.x\n",
    "\n",
    "# Gráfica de barras para las variables de decisión\n",
    "plt.bar(range(len(x_opt)), x_opt, tick_label=['x1', 'x2', 'x3', 'x4', 'x5', 'x6'])\n",
    "plt.xlabel('Variables de Decisión')\n",
    "plt.ylabel('Valor Óptimo')\n",
    "plt.title(\"Valores Óptimos de las Variables de Decisión para IF'c 200 KGS/CM^2\")\n",
    "plt.show()"
   ]
  },
  {
   "cell_type": "code",
   "execution_count": 26,
   "id": "2a6b4ed4",
   "metadata": {},
   "outputs": [
    {
     "data": {
      "image/png": "[encoded data removed]",
      "text/plain": [
       "<Figure size 640x480 with 1 Axes>"
      ]
     },
     "metadata": {},
     "output_type": "display_data"
    }
   ],
   "source": [
    "import matplotlib.pyplot as plt\n",
    "\n",
    "# Solución óptima\n",
    "x_opt = solc.x\n",
    "\n",
    "# Gráfica de barras para las variables de decisión\n",
    "plt.bar(range(len(x_opt)), x_opt, tick_label=['x1', 'x2', 'x3', 'x4', 'x5', 'x6'])\n",
    "plt.xlabel('Variables de Decisión')\n",
    "plt.ylabel('Valor Óptimo')\n",
    "plt.title(\"Valores Óptimos de las Variables de Decisión para IF'c 250 KGS/CM^2\")\n",
    "plt.show()"
   ]
  },
  {
   "cell_type": "code",
   "execution_count": 27,
   "id": "cc4e2050",
   "metadata": {},
   "outputs": [
    {
     "data": {
      "image/png": "[encoded data removed]",
      "text/plain": [
       "<Figure size 640x480 with 1 Axes>"
      ]
     },
     "metadata": {},
     "output_type": "display_data"
    }
   ],
   "source": [
    "import matplotlib.pyplot as plt\n",
    "\n",
    "# Solución óptima\n",
    "x_opt = solp.x\n",
    "\n",
    "# Gráfica de barras para las variables de decisión\n",
    "plt.bar(range(len(x_opt)), x_opt, tick_label=['x1', 'x2', 'x3', 'x4', 'x5', 'x6'])\n",
    "plt.xlabel('Variables de Decisión')\n",
    "plt.ylabel('Valor Óptimo')\n",
    "plt.title(\"Valores Óptimos de las Variables de Decisión para IF'c 300 KGS/CM^2\")\n",
    "plt.show()"
   ]
  },
  {
   "cell_type": "markdown",
   "id": "5ff3f371",
   "metadata": {},
   "source": [
    "#### Resultados finales del precio \n",
    "\n",
    "| Resistencia y Tipo de Concreto | Aplicación            | Precio          |\n",
    "|--------------------------------|-----------------------|-----------------|\n",
    "| IF'c 100 KGS/CM^2              | FIRMES, PLANTILLAS    | 185.1413        |\n",
    "| IF'c 150 KGS/CM^2              | DALAS Y CATILLOS      | 184.93618750000002 |\n",
    "| IF'c 200 KGS/CM^2              | LOSAS DE ESPESOR      | 184.480975      |\n",
    "| IF'c 250 KGS/CM^2              | COLUMNAS Y TRABES     | 184.27586250000002 |\n",
    "| IF'c 300 KGS/CM^2              | PREESFORZADO          | 184.00822499999998 |\n"
   ]
  },
  {
   "cell_type": "code",
   "execution_count": 32,
   "id": "50eb3eb4",
   "metadata": {},
   "outputs": [
    {
     "data": {
      "image/png": "[encoded data removed]",
      "text/plain": [
       "<Figure size 640x480 with 1 Axes>"
      ]
     },
     "metadata": {},
     "output_type": "display_data"
    }
   ],
   "source": [
    "import matplotlib.pyplot as plt\n",
    "\n",
    "\n",
    "tipos_concreto = [\"IF'c 100 KGS/CM^2\", \"IF'c 150 KGS/CM^2\", \"IF'c 200 KGS/CM^2\", \"IF'c 250 KGS/CM^2\", \"IF'c 300 KGS/CM^2\"]\n",
    "precios =[solf.fun, sold.fun, soll.fun, solc.fun, solp.fun]\n",
    "\n",
    "fig, ax = plt.subplots()\n",
    "\n",
    "ax.plot(tipos_concreto, precios, marker='o', color='b', linestyle='-', markersize=8, label='Precios')\n",
    "\n",
    "ax.set_title('Precios de Concreto por Tipo')\n",
    "ax.set_xlabel('Resistencia')\n",
    "ax.set_ylabel('Precio')\n",
    "\n",
    "plt.xticks(rotation=45, ha=\"right\")\n",
    "\n",
    "ax.legend()\n",
    "\n",
    "plt.tight_layout()\n",
    "plt.grid(True)\n",
    "plt.show()\n"
   ]
  },
  {
   "cell_type": "markdown",
   "id": "74607667",
   "metadata": {},
   "source": [
    "## Conclusiones\n",
    "\n",
    "\n",
    "Se ha logrado determinar la combinación más económica de materiales, como cemento, arena y grava, para cinco niveles de resistencia diferentes. Además de esto, hemos identificado que la compra más rentable de concreto, arena y grava en el mercado se encuentra en distribuidores que ofrecen grandes cantidades, ya sea en toneladas o más de 10,000 kg. Al minimizar los costos totales de producción de concreto, hemos observado que en todos los casos se seleccionan los mismos distribuidores. Sin embargo, consideramos importante destacar que, aunque comprar una mayor cantidad de material a un precio más bajo puede resultar conveniente desde un punto de vista económico, es esencial evaluar cuidadosamente cuánto material se necesita en un proyecto específico. Comprar una cantidad excesiva de materia prima cuando se requiere una cantidad limitada de concreto puede no ser recomendable en términos de gestión de recursos."
   ]
  },
  {
   "cell_type": "markdown",
   "id": "2e6e18b3",
   "metadata": {},
   "source": [
    "##  Referencias "
   ]
  },
  {
   "cell_type": "markdown",
   "id": "29479d70",
   "metadata": {},
   "source": [
    "\n",
    "- Arena. (s/f). Materiales De Construcción. Recuperado el 14 de septiembre de 2023, de https://materialesconstruccion.mx/tienda/agregados/arena/\n",
    "- Arena Para Sandblast 50 Kilos—$ 269. (s/f). Recuperado el 14 de septiembre de 2023, de https://articulo.mercadolibre.com.mx/MLM-712605849-arena-para-sandblast-50-kilos-_JM\n",
    "- Cemento Gris Cruz Azul. (s/f). Materiales De Construcción. Recuperado el 14 de septiembre de 2023, de https://materialesconstruccion.mx/tienda/envasados/precio-cemento/precio-cemento-cruz-azul/\n",
    "- Cemento Gris TOLTECA. (s/f). Recuperado el 14 de septiembre de 2023, de https://www.construactivo.com/cemento-adhesivos/2-3937-cemento-gris-tolteca.html#/1006-volumen-kilogramo\n",
    "- Grava. (s/f). PLOMERIA UNIVERSAL. Recuperado el 14 de septiembre de 2023, de https://plomeriauniversal.mx/products/grava-m3\n",
    "- Grava Pesada. (s/f). Materiales De Construcción. Recuperado el 14 de septiembre de 2023, de https://materialesconstruccion.mx/tienda/agregados/grava/\n",
    "- Tabla de resistencia de concretos. (s/f). Recuperado el 14 de septiembre de 2023, de https://www.slideshare.net/nazagdl/tabla-de-resistencia-de-concretos\n",
    "\n"
   ]
  },
  {
   "cell_type": "code",
   "execution_count": null,
   "id": "57938e97",
   "metadata": {},
   "outputs": [],
   "source": []
  }
 ],
 "metadata": {
  "kernelspec": {
   "display_name": "Python 3 (ipykernel)",
   "language": "python",
   "name": "python3"
  },
  "language_info": {
   "codemirror_mode": {
    "name": "ipython",
    "version": 3
   },
   "file_extension": ".py",
   "mimetype": "text/x-python",
   "name": "python",
   "nbconvert_exporter": "python",
   "pygments_lexer": "ipython3",
   "version": "3.11.4"
  }
 },
 "nbformat": 4,
 "nbformat_minor": 5
}
