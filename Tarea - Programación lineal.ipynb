{
 "cells": [
  {
   "cell_type": "markdown",
   "metadata": {},
   "source": [
    "Andrea del Pilar Zamora Cortes 07/09/2023\n",
    "\n",
    "# Tarea - Programación lineal"
   ]
  },
  {
   "cell_type": "markdown",
   "metadata": {},
   "source": [
    "### Diseño de la Dieta Óptima\n",
    "\n",
    "Se quiere producir comida para gatos de la manera más barata, no obstante se debe también asegurar que se cumplan los datos requeridos de analisis nutricional. Por lo que se quiere variar la cantidad de cada ingrediente para cumplir con los estandares nutricionales. Los requisitos que se tienen es que en $100$ gramos, se deben tener **por lo menos** $8$ gramos de proteína y $6$ gramos de grasa. Así mismo, no se debe tener más de $2$ gramos de fibra y $0.4$ gramos de sal.  \n",
    "\n",
    "Los datos nutricionales se pueden obtener de la siguiente tabla:\n",
    "\n",
    "Ingrediente|Proteína|Grasa|Fibra|Sal\n",
    ":----|----|----|----|----\n",
    "Pollo|  10.0%|08.0%|00.1%|00.2%\n",
    "Carne|  20.0%|10.0%|00.5%|00.5%\n",
    "Cordero|15.0%|11.0%|00.5%|00.7%\n",
    "Arroz|  00.0%|01.0%|10.0%|00.2%\n",
    "Trigo|  04.0%|01.0%|15.0%|00.8%\n",
    "Gel|    00.0%|00.0%|00.0%|00.0%\n",
    "\n",
    "Los costos de cada producto son:\n",
    "\n",
    "Ingrediente|Costo por gramo\n",
    ":----|----\n",
    "Pollo|$\\$$0.013\n",
    "Carne|$\\$$0.008\n",
    "Cordero|$\\$$0.010\n",
    "Arroz|$\\$$0.002\n",
    "Trigo|$\\$$0.005\n",
    "Gel|$\\$$0.001    \n",
    "\n",
    "Lo que se busca optimizar en este caso es la cantidad de productos que se debe utilizar en la comida de gato, minimizando el costo total. Para simplificar la notación use las siguientes variables: \n",
    "\n",
    "+ $x_1:$ Gramos de pollo  \n",
    "+ $x_2:$ Gramos de carne  \n",
    "+ $x_3:$ Gramos de cordero  \n",
    "+ $x_4:$ Gramos de arroz  \n",
    "+ $x_5:$ Gramos de trigo  \n",
    "+ $x_6:$ Gramos de gel\n",
    "\n",
    "La tarea consiste en plantear el problemade programación lineal que permita satisfacer las necesidades alimenticias del gato al tiempo que minimice el costo total y resolverlo con `linprog`."
   ]
  },
  {
   "cell_type": "markdown",
   "metadata": {},
   "source": [
    "1. Criterio de Optimización:\n",
    "Minimizar el costo total de la comida para gatos.\n",
    "\n",
    "2. Variables de Control:\n",
    "Catidad de cada ingrediente\n",
    "- $x_1$: Gramos de pollo.\n",
    "- $x_2$: Gramos de carne.\n",
    "- $x_3$: Gramos de cordero.\n",
    "- $x_4$: Gramos de arroz.\n",
    "- $x_5$: Gramos de trigo.\n",
    "- $x_6$: Gramos de gel.\n",
    "\n",
    "3. Función de Costo:\n",
    "Suma de los costos de los ingredientes\n",
    "$$0.013x_1+0.008x_2+0.010x_3+0.002x_4+0.005x_5+0.001x_6$$\n",
    "\n",
    "\n",
    "4. Restricciones:\n",
    "\n",
    "Nutricionales:\n",
    "\n",
    "Proteína: $0.1x_1+0.2x_2+0.15x_3+0x_4+0.04x_5+0x_6\\ge 8$\n",
    "\n",
    "Grasa: $0.08x_1+0.1x_2+0.11x_3+0.01x_4+0.01x_5+0x_6\\ge 6 $\n",
    "\n",
    "Fibra: $0.001x_1+0.005x_2+0.005x_3+0.1x_4+0.15x_5+0x_6\\le 2$\n",
    "\n",
    "Sal: $0.002x_1+0.005x_2+0.007x_3+0.002x_4+0.008x_5+0x_6\\le 0.4$\n",
    "\n",
    "Cantidad: $x_1+x_2+x_3+x_4+x_5+x_6 = 100$"
   ]
  },
  {
   "cell_type": "code",
   "execution_count": 2,
   "metadata": {},
   "outputs": [],
   "source": [
    "import scipy.optimize as opt\n"
   ]
  },
  {
   "cell_type": "code",
   "execution_count": 5,
   "metadata": {},
   "outputs": [
    {
     "data": {
      "text/plain": [
       "        message: Optimization terminated successfully. (HiGHS Status 7: Optimal)\n",
       "        success: True\n",
       "         status: 0\n",
       "            fun: 0.52\n",
       "              x: [ 0.000e+00  6.000e+01  0.000e+00  0.000e+00  0.000e+00\n",
       "                   4.000e+01]\n",
       "            nit: 2\n",
       "          lower:  residual: [ 0.000e+00  6.000e+01  0.000e+00  0.000e+00\n",
       "                              0.000e+00  4.000e+01]\n",
       "                 marginals: [ 6.400e-03  0.000e+00  1.300e-03  3.000e-04\n",
       "                              3.300e-03  0.000e+00]\n",
       "          upper:  residual: [       inf        inf        inf        inf\n",
       "                                    inf        inf]\n",
       "                 marginals: [ 0.000e+00  0.000e+00  0.000e+00  0.000e+00\n",
       "                              0.000e+00  0.000e+00]\n",
       "          eqlin:  residual: [ 0.000e+00]\n",
       "                 marginals: [ 1.000e-03]\n",
       "        ineqlin:  residual: [ 4.000e+00  0.000e+00  1.700e+00  1.000e-01]\n",
       "                 marginals: [-0.000e+00 -7.000e-02 -0.000e+00 -0.000e+00]\n",
       " mip_node_count: 0\n",
       " mip_dual_bound: 0.0\n",
       "        mip_gap: 0.0"
      ]
     },
     "execution_count": 5,
     "metadata": {},
     "output_type": "execute_result"
    }
   ],
   "source": [
    "import numpy as np\n",
    "\n",
    "c = np.array([0.013,\n",
    "              0.008,\n",
    "              0.01,\n",
    "              0.002,\n",
    "              0.005,\n",
    "              0.001])\n",
    "Aub = np.array([\n",
    "    [-0.1, -0.2, -0.15, 0, -0.04, 0],\n",
    "    [-0.08, -0.1, -0.11, -0.01, -0.01, 0],\n",
    "    [0.001, 0.005, 0.005, 0.10, 0.15, 0],\n",
    "    [0.002, 0.005, 0.007, 0.002, 0.008, 0]\n",
    "])\n",
    "bub = np.array([-8,\n",
    "                -6,\n",
    "                 2,\n",
    "                0.4])\n",
    "Aeq = np.array([\n",
    "    [1, 1, 1, 1, 1, 1]\n",
    "])\n",
    "beq = np.array([100])\n",
    "\n",
    "sol=opt.linprog(c, Aub, bub, Aeq, beq)\n",
    "sol"
   ]
  },
  {
   "cell_type": "code",
   "execution_count": 6,
   "metadata": {},
   "outputs": [
    {
     "data": {
      "text/plain": [
       "array([ 0., 60.,  0.,  0.,  0., 40.])"
      ]
     },
     "execution_count": 6,
     "metadata": {},
     "output_type": "execute_result"
    }
   ],
   "source": [
    "sol.x"
   ]
  },
  {
   "cell_type": "code",
   "execution_count": 7,
   "metadata": {},
   "outputs": [
    {
     "data": {
      "text/plain": [
       "0.52"
      ]
     },
     "execution_count": 7,
     "metadata": {},
     "output_type": "execute_result"
    }
   ],
   "source": [
    "sol.fun"
   ]
  },
  {
   "cell_type": "markdown",
   "metadata": {},
   "source": [
    "En 60 gramos de carne y 40 gramos de gel se tiene 12 gramos de proteina, 6 gramos de grasa y 0.3 gramos fibra y sal, con un costo de 0.52."
   ]
  },
  {
   "cell_type": "markdown",
   "metadata": {},
   "source": [
    "### Problema de distribución de energía eléctrica\n",
    "\n",
    "La Comisión Federal de Electricidad **(CFE)** dispone de cuatro plantas de generación para satisfacer la demanda diaria eléctrica en cuatro ciudades, Guadalajara, León y Morelia. Las plantas $1$, $2$ y $3$ pueden satisfacer $80$, $40$ y $60$ millones de KW al día respectivamente. Las necesidades de las ciudades de Guadalajara, León y Morelia son de $70$, $40$ y $70$ millones de Kw al día respectivamente. \n",
    "\n",
    "\n",
    "Los costos asociados al envío de suministro energético por cada millón de Kw entre cada planta y cada ciudad son los registrados en la siguiente tabla. \n",
    "\n",
    "-|Guadalajara|León|Morelia\n",
    ":----|----|----|----\n",
    "Planta 1|5|2|7\n",
    "Planta 2|3|6|6\n",
    "Planta 3|6|1|2\n",
    "\n",
    "Y por último, las restricciones del problema, van a estar dadas por las capacidades de oferta y demanda de cada planta (en millones de KW) y cada ciudad.\n",
    "\n",
    "Para simplificar la notación use las siguientes variables:\n",
    "\n",
    "+ $x_1$: Kw (en millones) distribuidos de la Planta 1 a Guadalajara\n",
    "+ $x_2$: Kw (en millones) distribuidos de la Planta 1 a León\n",
    "+ $x_3$: Kw (en millones) distribuidos de la Planta 1 a Morelia\n",
    "+ $x_4$: Kw (en millones) distribuidos de la Planta 2 a Guadalajara\n",
    "+ $x_5$: Kw (en millones) distribuidos de la Planta 2 a León\n",
    "+ $x_6$: Kw (en millones) distribuidos de la Planta 2 a Morelia\n",
    "+ $x_7$: Kw (en millones) distribuidos de la Planta 3 a Guadalajara\n",
    "+ $x_8$: Kw (en millones) distribuidos de la Planta 3 a León\n",
    "+ $x_9$: Kw (en millones) distribuidos de la Planta 3 a Morelia\n",
    "\n",
    "La tarea consiste en plantear el problema de programación lineal que permita satisfacer las necesidades de todas las ciudades al tiempo que minimice los costos asociados a la distribución y resolverlo con `linprog`."
   ]
  },
  {
   "cell_type": "markdown",
   "metadata": {},
   "source": [
    "1. Criterio de Optimización:\n",
    "Minimizar los costos totales asociados a la distribución de energía eléctrica\n",
    "\n",
    "2. Variables de Control:\n",
    "Cantidades de energía eléctrica que se distribuyen desde cada planta a cada ciudad\n",
    "- $x_1$: Kw distribuidos de la Planta 1 a Guadalajara\n",
    "- $x_2$: Kw distribuidos de la Planta 1 a León\n",
    "- $x_3$: Kw distribuidos de la Planta 1 a Morelia\n",
    "- $x_4$: Kw distribuidos de la Planta 2 a Guadalajara\n",
    "- $x_5$: Kw distribuidos de la Planta 2 a León\n",
    "- $x_6$: Kw distribuidos de la Planta 2 a Morelia\n",
    "- $x_7$: Kw distribuidos de la Planta 3 a Guadalajara\n",
    "- $x_8$: Kw distribuidos de la Planta 3 a León\n",
    "- $x_9$: Kw distribuidos de la Planta 3 a Morelia\n",
    "\n",
    "3. Función de Costo:\n",
    "Suma de los costos de los ingredientes\n",
    "$$ 5𝑥_1 + 2𝑥_2 + 7𝑥_3 + 3𝑥_4 + 6𝑥_5 + 6𝑥_6 + 6𝑥_7 + 1𝑥_8 + 2𝑥_9$$-\n",
    "\n",
    "\n",
    "4. Restricciones:\n",
    "\n",
    "- Capacidad de plantas:\n",
    "\n",
    "Planta 1: $𝑥_1 + 𝑥_2 + 𝑥_3\\le 80$\n",
    "\n",
    "Planta 2: $𝑥_4 + 𝑥_5 + 𝑥_6\\le 40$ \n",
    "\n",
    "Planta 3: $𝑥_7 + 𝑥_8 + 𝑥_9\\le 60$\n",
    "\n",
    "- Demanda de las ciudades:\n",
    "\n",
    "Guadalajara: $𝑥_1 + 𝑥_4 + 𝑥_7\\ge 70$ \n",
    "\n",
    "León: $𝑥_2 + 𝑥_5 + 𝑥_8\\ge 40$\n",
    "\n",
    "Morelia: $𝑥_3 + 𝑥_6 + 𝑥_9\\ge 70$ "
   ]
  },
  {
   "cell_type": "code",
   "execution_count": 29,
   "metadata": {},
   "outputs": [
    {
     "data": {
      "text/plain": [
       "        message: Optimization terminated successfully. (HiGHS Status 7: Optimal)\n",
       "        success: True\n",
       "         status: 0\n",
       "            fun: 540.0\n",
       "              x: [ 3.000e+01  4.000e+01  1.000e+01  4.000e+01  0.000e+00\n",
       "                   0.000e+00  0.000e+00  0.000e+00  6.000e+01]\n",
       "            nit: 6\n",
       "          lower:  residual: [ 3.000e+01  4.000e+01  1.000e+01  4.000e+01\n",
       "                              0.000e+00  0.000e+00  0.000e+00  0.000e+00\n",
       "                              6.000e+01]\n",
       "                 marginals: [ 0.000e+00  0.000e+00  0.000e+00  0.000e+00\n",
       "                              6.000e+00  1.000e+00  6.000e+00  4.000e+00\n",
       "                              0.000e+00]\n",
       "          upper:  residual: [       inf        inf        inf        inf\n",
       "                                    inf        inf        inf        inf\n",
       "                                    inf]\n",
       "                 marginals: [ 0.000e+00  0.000e+00  0.000e+00  0.000e+00\n",
       "                              0.000e+00  0.000e+00  0.000e+00  0.000e+00\n",
       "                              0.000e+00]\n",
       "          eqlin:  residual: []\n",
       "                 marginals: []\n",
       "        ineqlin:  residual: [ 0.000e+00  0.000e+00  0.000e+00  0.000e+00\n",
       "                              0.000e+00  0.000e+00]\n",
       "                 marginals: [-7.000e+00 -5.000e+00 -2.000e+00 -2.000e+00\n",
       "                             -5.000e+00 -0.000e+00]\n",
       " mip_node_count: 0\n",
       " mip_dual_bound: 0.0\n",
       "        mip_gap: 0.0"
      ]
     },
     "execution_count": 29,
     "metadata": {},
     "output_type": "execute_result"
    }
   ],
   "source": [
    "import numpy as np\n",
    "\n",
    "c = np.array([5,\n",
    "              2,\n",
    "              7,\n",
    "              3,\n",
    "              6,\n",
    "              6,\n",
    "              6,\n",
    "              1,\n",
    "              2])\n",
    "Aub = np.array([\n",
    "    [-1, -1, -1, 0, 0, 0, 0, 0, 0],\n",
    "    [0, 0, 0, -1, -1, -1, 0, 0, 0],\n",
    "    [0, 0, 0, 0, 0, 0, -1, -1, -1],\n",
    "    [1, 0, 0, 1, 0, 0, 1, 0, 0],\n",
    "    [0, 1, 0, 0, 1, 0, 0, 1, 0],\n",
    "    [0, 0, 1, 0, 0, 1, 0, 0, 1]\n",
    "])\n",
    "bub = np.array([-80,\n",
    "                -40,\n",
    "                -60,\n",
    "                 70,\n",
    "                 40,\n",
    "                 70])\n",
    "\n",
    "sol=opt.linprog(c, Aub, bub)\n",
    "sol"
   ]
  },
  {
   "cell_type": "code",
   "execution_count": 30,
   "metadata": {},
   "outputs": [
    {
     "data": {
      "text/plain": [
       "array([30., 40., 10., 40.,  0.,  0.,  0.,  0., 60.])"
      ]
     },
     "execution_count": 30,
     "metadata": {},
     "output_type": "execute_result"
    }
   ],
   "source": [
    "sol.x"
   ]
  },
  {
   "cell_type": "code",
   "execution_count": 31,
   "metadata": {},
   "outputs": [
    {
     "data": {
      "text/plain": [
       "540.0"
      ]
     },
     "execution_count": 31,
     "metadata": {},
     "output_type": "execute_result"
    }
   ],
   "source": [
    "sol.fun"
   ]
  },
  {
   "cell_type": "code",
   "execution_count": 32,
   "metadata": {},
   "outputs": [
    {
     "data": {
      "text/plain": [
       "540"
      ]
     },
     "execution_count": 32,
     "metadata": {},
     "output_type": "execute_result"
    }
   ],
   "source": [
    "C=30*5+40*2+10*7+40*3+60*2\n",
    "C"
   ]
  },
  {
   "cell_type": "code",
   "execution_count": 33,
   "metadata": {},
   "outputs": [
    {
     "data": {
      "text/plain": [
       "270"
      ]
     },
     "execution_count": 33,
     "metadata": {},
     "output_type": "execute_result"
    }
   ],
   "source": [
    "Guadalajara=30*5+40*3\n",
    "Guadalajara"
   ]
  },
  {
   "cell_type": "code",
   "execution_count": 35,
   "metadata": {},
   "outputs": [
    {
     "data": {
      "text/plain": [
       "80"
      ]
     },
     "execution_count": 35,
     "metadata": {},
     "output_type": "execute_result"
    }
   ],
   "source": [
    "Leon= 40*2\n",
    "Leon"
   ]
  },
  {
   "cell_type": "code",
   "execution_count": 37,
   "metadata": {},
   "outputs": [
    {
     "data": {
      "text/plain": [
       "190"
      ]
     },
     "execution_count": 37,
     "metadata": {},
     "output_type": "execute_result"
    }
   ],
   "source": [
    "Morelia= 10*7+60*2\n",
    "Morelia"
   ]
  },
  {
   "cell_type": "markdown",
   "metadata": {},
   "source": [
    "Por lo tanto la planta 1 usa el 80 millones de KW, planta 2 da 40 millones de KW y las planta 3 tiene 70 millones de KW, con un costo total de 540"
   ]
  }
 ],
 "metadata": {
  "kernelspec": {
   "display_name": "Python 3 (ipykernel)",
   "language": "python",
   "name": "python3"
  },
  "language_info": {
   "codemirror_mode": {
    "name": "ipython",
    "version": 3
   },
   "file_extension": ".py",
   "mimetype": "text/x-python",
   "name": "python",
   "nbconvert_exporter": "python",
   "pygments_lexer": "ipython3",
   "version": "3.11.4"
  }
 },
 "nbformat": 4,
 "nbformat_minor": 2
}
