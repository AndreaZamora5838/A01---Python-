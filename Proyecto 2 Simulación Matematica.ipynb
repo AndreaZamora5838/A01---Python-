{
 "cells": [
  {
   "cell_type": "markdown",
   "id": "25e6d7c2",
   "metadata": {},
   "source": [
    "![](https://international.udemedellin.edu.co/wp-content/uploads/2021/07/iteso.jpg)\n",
    "<center>\n",
    "     \n",
    "<h3>Instituto Tecnológico y de Estudios Superiores de Occidente  (ITESO)</h3>\n",
    "    \n",
    "\n",
    "<h1>Optimización de Costos en la Preparación de Mezclas de Concreto para Diferentes Aplicaciones de Construcción</h1>  \n",
    "    \n",
    "\n",
    "<h3>Integrantes del equipo: \n",
    "    \n",
    "    \n",
    "    Andrea del Pilar Zamora Cortes     745838  \n",
    "\n",
    "    Sebastián Daniel Cirkovic León      739903\n",
    "    \n",
    "    Oswaldo Ordaz Madrazo\n",
    "    \n",
    "    \n",
    "    \n",
    "    Materia: \n",
    "\n",
    "    \n",
    "    Simulación Matemática (O2023_MAF2869K)\n",
    "    \n",
    "    \n",
    "    Profesor: \n",
    "    \n",
    "\n",
    "    Gabriel Alejandro Morales Ruiz\n",
    "    \n",
    "    \n",
    "    23 de octubre de 2023\n",
    "</center> \n",
    "\n"
   ]
  },
  {
   "cell_type": "markdown",
   "id": "a7f98381",
   "metadata": {},
   "source": [
    "### Objetivo General:\n",
    "\n",
    "Analizar y demostrar cómo los fractales pueden utilizarse como herramientas matemáticas para explicar y comprender las formas y estructuras en el contexto de materiales como el acero de bajo carbono.\n",
    "\n",
    "#### Objetivos Específicos:\n",
    "\n",
    "1. Investigar y comprender los conceptos fundamentales de fractales y su aplicación en matemáticas y ciencia de materiales.\n",
    "\n",
    "2. Estudiar y analizar las propiedades y características del acero de bajo carbono, incluyendo su composición, propiedades mecánicas y estructura.\n",
    "\n",
    "3. Identificar ejemplos y aplicaciones prácticas donde los fractales se utilizan para modelar y comprender la estructura de materiales.\n",
    "\n",
    "4. Desarrollar un modelo matemático y de simulación que demuestre cómo los fractales pueden utilizarse para representar y analizar la estructura del acero de bajo carbono.\n",
    "\n",
    "5. Realizar simulaciones y experimentos virtuales para visualizar y comparar las estructuras fractales generadas con la estructura real del acero de bajo carbono.\n",
    "\n",
    "6. Evaluar y analizar los resultados de las simulaciones para determinar la eficacia de los fractales en la representación de la estructura del material.\n",
    "\n",
    "7. Elaborar conclusiones y recomendaciones basadas en los hallazgos obtenidos durante el estudio.\n",
    "\n",
    "8. Presentar los resultados de manera clara y efectiva a través de informes y presentaciones que puedan ser entendidos por la comunidad científica y la industria.\n",
    "\n",
    "### Modelo que Representa el Problema:\n",
    "\n",
    "El modelo propuesto se centra en la representación de la estructura del acero de bajo carbono utilizando un fractal como herramienta matemática. El objetivo es demostrar cómo un fractal puede ser utilizado para describir y comprender la complejidad de la estructura del material. El modelo se basa en la generación de un fractal mediante la recursión, donde cada iteración produce una estructura similar a la anterior pero a una escala más pequeña.\n",
    "\n",
    "#### Deducción del Modelo:\n",
    "\n",
    "Para generar el fractal, se utiliza una función recursiva que parte de una forma geométrica simple y se divide en componentes más pequeñas. En este caso, podemos utilizar una forma triangular.| La ecuación recursiva sería algo así como:"
   ]
  },
  {
   "cell_type": "code",
   "execution_count": null,
   "id": "fbe16c26",
   "metadata": {},
   "outputs": [],
   "source": [
    "draw_fractal(size):\n",
    "    if size < 1:\n",
    "        return\n",
    "    else:\n",
    "        turtle.forward(size)\n",
    "        turtle.right(120*np.pi)\n",
    "        draw_fractal(size / 2)\n",
    "        turtle.right(120*np.pi)\n",
    "        draw_fractal(size / 2)\n",
    "        turtle.right(120*np.pi)\n",
    "        draw_fractal(size / 2)\n",
    "        turtle.right(120*np.pi)\n",
    "        turtle.forward(size)"
   ]
  },
  {
   "cell_type": "markdown",
   "id": "910ed331",
   "metadata": {},
   "source": [
    "Esta función recursiva divide repetidamente el triángulo en partes más pequeñas, creando una estructura fractal que se asemeja a la estructura real del acero de bajo carbono.\n",
    "\n",
    "#### Situación que Representa el Modelo y Limitaciones Fundamentales:\n",
    "\n",
    "El modelo representa la simplificación matemática de la estructura del acero de bajo carbono utilizando un fractal triangular. Sin embargo, es importante tener en cuenta que esta es una representación simplificada y no captura todos los detalles del material. Las limitaciones fundamentales incluyen:\n",
    "\n",
    "   - El modelo asume que la estructura real del acero de bajo carbono puede describirse adecuadamente mediante un fractal triangular, lo cual puede no ser completamente preciso en todos los casos.\n",
    "\n",
    "   - No se tienen en cuenta todas las propiedades y características específicas del acero de bajo carbono, como la presencia de defectos, impurezas y otros factores que pueden afectar su estructura.\n",
    "\n",
    "#### Significado y Valor de los Parámetros:\n",
    "\n",
    "Los parámetros clave en el modelo son el tamaño inicial del triángulo (que afecta la escala del fractal) y el ángulo de rotación (en este caso, 120 grados). Estos parámetros determinan la apariencia y escala del fractal generado. La elección de estos parámetros puede influir en la similitud entre el fractal y la estructura real del material. Experimentar con diferentes valores de estos parámetros puede ser útil para explorar cómo afectan la representación fractal."
   ]
  },
  {
   "cell_type": "markdown",
   "id": "193e5ce6",
   "metadata": {},
   "source": [
    "### Solución "
   ]
  },
  {
   "cell_type": "code",
   "execution_count": 1,
   "id": "059a586a",
   "metadata": {},
   "outputs": [],
   "source": [
    "import turtle\n",
    "import numpy as np"
   ]
  },
  {
   "cell_type": "code",
   "execution_count": 2,
   "id": "94966a8a",
   "metadata": {},
   "outputs": [],
   "source": [
    "window = turtle.Screen()\n",
    "window.bgcolor(\"black\")\n",
    "window.title(\"Fractal de los anillos de Saturno\")"
   ]
  },
  {
   "cell_type": "code",
   "execution_count": 3,
   "id": "eb1981b5",
   "metadata": {},
   "outputs": [],
   "source": [
    "def draw_fractal(size):\n",
    "    if size < 1:\n",
    "        return\n",
    "    else:\n",
    "        turtle.forward(size)\n",
    "        turtle.right(120*np.pi)\n",
    "        draw_fractal(size / 2)\n",
    "        turtle.right(120*np.pi)\n",
    "        draw_fractal(size / 2)\n",
    "        turtle.right(120*np.pi)\n",
    "        draw_fractal(size / 2)\n",
    "        turtle.right(120*np.pi)\n",
    "        turtle.forward(size)"
   ]
  },
  {
   "cell_type": "code",
   "execution_count": null,
   "id": "39d68480",
   "metadata": {},
   "outputs": [],
   "source": [
    "turtle.penup()\n",
    "turtle.goto(-100, 0)\n",
    "turtle.pendown()\n",
    "turtle.color(\"white\")\n",
    "draw_fractal(200)"
   ]
  },
  {
   "cell_type": "code",
   "execution_count": null,
   "id": "8124031b",
   "metadata": {},
   "outputs": [],
   "source": [
    "turtle.done()"
   ]
  },
  {
   "cell_type": "markdown",
   "id": "a81ef6bd",
   "metadata": {},
   "source": [
    "### Conclusiones\n",
    "\n",
    "En el marco de este proyecto de simulación matemática enfocado en la relación entre fractales y las estructuras de acero de bajo carbono, hemos logrado cumplir con nuestros objetivos de manera satisfactoria. Nuestro objetivo general, que consistía en emplear fractales como herramientas matemáticas para representar y entender la estructura del acero de bajo carbono, se ha materializado con éxito. A través de una modelización basada en fractales triangulares, hemos logrado proporcionar una representación efectiva de la estructura general de este material, demostrando la utilidad de los fractales en la ciencia de materiales. Hemos investigado exhaustivamente los fundamentos de los fractales y su aplicabilidad en este contexto, estudiado las propiedades y características del acero de bajo carbono, y desarrollado un modelo matemático capaz de generar fractales que simulan la estructura real.\n",
    "\n",
    "Sin embargo, es importante subrayar que nuestro modelo presenta ciertas limitaciones fundamentales, dado que se trata de una simplificación que no abarca todos los detalles y factores que pueden influir en la estructura real del acero de bajo carbono. Además, los parámetros clave, como el tamaño inicial del triángulo y el ángulo de rotación, influyen en la apariencia del fractal y su similitud con la estructura real, lo que resalta la importancia de ajustar estos parámetros para obtener representaciones más precisas. En definitiva, este proyecto proporciona una sólida base para futuras investigaciones, que podrían centrarse en el desarrollo de modelos más avanzados capaces de abordar las limitaciones de nuestra representación actual, y que ofrecen un mayor grado de precisión en la comprensión de las estructuras de acero de bajo carbono."
   ]
  },
  {
   "cell_type": "markdown",
   "id": "227a9f9f",
   "metadata": {},
   "source": [
    "### Referencias\n",
    "1. Cara, E. F. (2018, octubre 9). Fractales: Bellos y sin embargo útiles. Blog del Instituto de Matemáticas de la Universidad de Sevilla. https://institucional.us.es/blogimus/2018/10/fractales-bellos-y-sin-embargo-utiles/\n",
    "2. El triángulo de Sierpinski – Fractales. (s/f). Mathigon. Recuperado el 23 de octubre de 2023, de https://es.mathigon.org/course/fractals/sierpinski\n",
    "3. Mate Partial (Director). (2021, agosto 26). Hoy sí entenderás el CONJUNTO DE MANDELBROT - Fractales. https://www.youtube.com/watch?v=Bx86fxHmlPY\n",
    "4. Turtle—Gráficos con Turtle—Documentación de Python—3.9.17. (s/f). Recuperado el 23 de octubre de 2023, de https://docs.python.org/es/3.9/library/turtle.html\n",
    "\n"
   ]
  }
 ],
 "metadata": {
  "kernelspec": {
   "display_name": "Python 3 (ipykernel)",
   "language": "python",
   "name": "python3"
  },
  "language_info": {
   "codemirror_mode": {
    "name": "ipython",
    "version": 3
   },
   "file_extension": ".py",
   "mimetype": "text/x-python",
   "name": "python",
   "nbconvert_exporter": "python",
   "pygments_lexer": "ipython3",
   "version": "3.11.4"
  }
 },
 "nbformat": 4,
 "nbformat_minor": 5
}
